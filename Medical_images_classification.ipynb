{
  "cells": [
    {
      "cell_type": "markdown",
      "metadata": {
        "id": "OI9NKBQwXM9K"
      },
      "source": [
        "# Assignement 2: Automatic diagnosis in medical images"
      ]
    },
    {
      "cell_type": "markdown",
      "metadata": {
        "id": "bRbWtqizXT6T"
      },
      "source": [
        "Install the library `medmnist` in our virtual machine. (Only needed at the beggining of each session)."
      ]
    },
    {
      "cell_type": "code",
      "execution_count": 1,
      "metadata": {
        "id": "Ig8aN-lUH1tp"
      },
      "outputs": [],
      "source": [
        "!pip install -q medmnist"
      ]
    },
    {
      "cell_type": "markdown",
      "metadata": {
        "id": "5F5FODxrYtJo"
      },
      "source": [
        "## Load necessary libraries and packages\n"
      ]
    },
    {
      "cell_type": "code",
      "execution_count": 49,
      "metadata": {
        "colab": {
          "base_uri": "https://localhost:8080/"
        },
        "id": "DsXbnmW_ggQp",
        "outputId": "ecbfa027-b9ba-406b-e1ce-6eb1478453bd"
      },
      "outputs": [
        {
          "output_type": "stream",
          "name": "stdout",
          "text": [
            "Pytorch version: 1.11.0+cu113\n",
            "GPU available: True\n",
            "MedMNIST v2.1.0 @ https://github.com/MedMNIST/MedMNIST/\n"
          ]
        }
      ],
      "source": [
        "import torch\n",
        "import torchvision.transforms as transforms\n",
        "import torch.nn as nn\n",
        "import torch.optim as optim\n",
        "import torch.utils.data as data\n",
        "from torch.optim import lr_scheduler\n",
        "\n",
        "import medmnist\n",
        "from medmnist import INFO\n",
        "from sklearn.metrics import f1_score, accuracy_score\n",
        "import numpy as np\n",
        "\n",
        "print(\"Pytorch version:\", torch.__version__)\n",
        "print(\"GPU available:\", torch.cuda.is_available())\n",
        "print(f\"MedMNIST v{medmnist.__version__} @ {medmnist.HOMEPAGE}\")"
      ]
    },
    {
      "cell_type": "markdown",
      "metadata": {
        "id": "Yf94VGrdY8LQ"
      },
      "source": [
        "## Transforms\n",
        "We will implement the same data preprocessing for both of the datasets we will use so that the different models are compatible with each other.\n",
        "This is based on the fact that the images of the datasets we will use have same dimensions. (28$\\times$28$\\times$3)"
      ]
    },
    {
      "cell_type": "code",
      "execution_count": 3,
      "metadata": {
        "id": "VC_5zN15hN-t"
      },
      "outputs": [],
      "source": [
        "data_transforms = {\n",
        "    'train': transforms.Compose([\n",
        "        transforms.ToTensor(),\n",
        "        transforms.Normalize(mean=[.5], std=[.5]),\n",
        "        transforms.RandomHorizontalFlip()\n",
        "    ]),\n",
        "    'test': transforms.Compose([\n",
        "        transforms.ToTensor(),\n",
        "        transforms.Normalize(mean=[.5], std=[.5])\n",
        "    ]),\n",
        "}"
      ]
    },
    {
      "cell_type": "markdown",
      "source": [
        "# 1. Colon Pathology Datatset"
      ],
      "metadata": {
        "id": "TwXjTrJBZcvo"
      }
    },
    {
      "cell_type": "markdown",
      "metadata": {
        "id": "BY1gz2UMZdVA"
      },
      "source": [
        "## Load the Colon Pathology dataset "
      ]
    },
    {
      "cell_type": "code",
      "execution_count": 4,
      "metadata": {
        "colab": {
          "base_uri": "https://localhost:8080/"
        },
        "id": "Ek-EjU0zIYtX",
        "outputId": "ef1098bc-1077-4d98-83f2-933c16b005e5"
      },
      "outputs": [
        {
          "output_type": "stream",
          "name": "stdout",
          "text": [
            "The images of the dataset have 3 channels. The type of the problem is multi-class classification with 9 classes.\n"
          ]
        }
      ],
      "source": [
        "# The object medmnist.INFO manages all the medmnist datasets. With the key 'pathmnist' (we found it in the documentation) we select the Colon Pathology Dataset\n",
        "path_info = INFO['pathmnist']\n",
        "path_task = path_info['task']\n",
        "path_channels = path_info['n_channels']\n",
        "path_classes = len(path_info['label'])\n",
        "\n",
        "print (\"The images of the dataset have\", path_channels, \"channels. The type of the problem is\", path_task, \"classification with\", path_classes, \"classes.\")"
      ]
    },
    {
      "cell_type": "code",
      "execution_count": 5,
      "metadata": {
        "colab": {
          "base_uri": "https://localhost:8080/"
        },
        "id": "8pUf0BJ806lf",
        "outputId": "1182f6d4-f174-4629-d9c1-85d1178e6aea"
      },
      "outputs": [
        {
          "output_type": "execute_result",
          "data": {
            "text/plain": [
              "dict_values(['PathMNIST', 'The PathMNIST is based on a prior study for predicting survival from colorectal cancer histology slides, providing a dataset (NCT-CRC-HE-100K) of 100,000 non-overlapping image patches from hematoxylin & eosin stained histological images, and a test dataset (CRC-VAL-HE-7K) of 7,180 image patches from a different clinical center. The dataset is comprised of 9 types of tissues, resulting in a multi-class classification task. We resize the source images of 3×224×224 into 3×28×28, and split NCT-CRC-HE-100K into training and validation set with a ratio of 9:1. The CRC-VAL-HE-7K is treated as the test set.', 'https://zenodo.org/record/6496656/files/pathmnist.npz?download=1', 'a8b06965200029087d5bd730944a56c1', 'multi-class', {'0': 'adipose', '1': 'background', '2': 'debris', '3': 'lymphocytes', '4': 'mucus', '5': 'smooth muscle', '6': 'normal colon mucosa', '7': 'cancer-associated stroma', '8': 'colorectal adenocarcinoma epithelium'}, 3, {'train': 89996, 'val': 10004, 'test': 7180}, 'CC BY 4.0'])"
            ]
          },
          "metadata": {},
          "execution_count": 5
        }
      ],
      "source": [
        "INFO['pathmnist'].values()"
      ]
    },
    {
      "cell_type": "code",
      "execution_count": 6,
      "metadata": {
        "colab": {
          "base_uri": "https://localhost:8080/"
        },
        "id": "i3rJVf-W0x63",
        "outputId": "da727688-326d-4d9a-a062-639da648e2e7"
      },
      "outputs": [
        {
          "output_type": "execute_result",
          "data": {
            "text/plain": [
              "dict_keys(['python_class', 'description', 'url', 'MD5', 'task', 'label', 'n_channels', 'n_samples', 'license'])"
            ]
          },
          "metadata": {},
          "execution_count": 6
        }
      ],
      "source": [
        "(path_info).keys()"
      ]
    },
    {
      "cell_type": "code",
      "execution_count": 50,
      "metadata": {
        "colab": {
          "base_uri": "https://localhost:8080/",
          "height": 350
        },
        "id": "ihBYlSqCJb2g",
        "outputId": "18c45147-f075-4b06-cb2b-673997d814ad"
      },
      "outputs": [
        {
          "output_type": "stream",
          "name": "stdout",
          "text": [
            "Using downloaded and verified file: /root/.medmnist/pathmnist.npz\n",
            "Using downloaded and verified file: /root/.medmnist/pathmnist.npz\n",
            "Using downloaded and verified file: /root/.medmnist/pathmnist.npz\n",
            "---------------------------------------------------------------------\n",
            "Διαθέσιμες πληροφορίες για το dataset:\n",
            "dict_keys(['python_class', 'description', 'url', 'MD5', 'task', 'label', 'n_channels', 'n_samples', 'license'])\n",
            "Περιγραφή dataset:\n",
            "The PathMNIST is based on a prior study for predicting survival from colorectal cancer histology slides, providing a dataset (NCT-CRC-HE-100K) of 100,000 non-overlapping image patches from hematoxylin & eosin stained histological images, and a test dataset (CRC-VAL-HE-7K) of 7,180 image patches from a different clinical center. The dataset is comprised of 9 types of tissues, resulting in a multi-class classification task. We resize the source images of 3×224×224 into 3×28×28, and split NCT-CRC-HE-100K into training and validation set with a ratio of 9:1. The CRC-VAL-HE-7K is treated as the test set.\n",
            "Ερμηνεία labels:\n",
            "{'0': 'adipose', '1': 'background', '2': 'debris', '3': 'lymphocytes', '4': 'mucus', '5': 'smooth muscle', '6': 'normal colon mucosa', '7': 'cancer-associated stroma', '8': 'colorectal adenocarcinoma epithelium'}\n",
            "Δείγμα εικόνων του Colon Pathology dataset:\n"
          ]
        },
        {
          "output_type": "execute_result",
          "data": {
            "text/plain": [
              "<PIL.Image.Image image mode=RGB size=112x112 at 0x7F614C4AAF90>"
            ],
            "image/png": "[encoded data removed]"
          },
          "metadata": {},
          "execution_count": 50
        }
      ],
      "source": [
        "# The field 'python_class' of info returns a python class which functions as a pytorch dataset, so that we pass it to the dataloader\n",
        "Path_DataClass = getattr(medmnist, path_info['python_class'])\n",
        "\n",
        "# Data download & load\n",
        "path_train_dataset = Path_DataClass(split='train', transform=data_transforms['train'], download=True)\n",
        "path_val_dataset = Path_DataClass(split='val', transform=data_transforms['test'], download=True)\n",
        "path_test_dataset = Path_DataClass(split='test', transform=data_transforms['test'], download=True)\n",
        "\n",
        "#The .info is a dictionary with explanatory information about the dataset\n",
        "print(\"---------------------------------------------------------------------\")\n",
        "print(\"Διαθέσιμες πληροφορίες για το dataset:\")\n",
        "print(path_train_dataset.info.keys())\n",
        "print(\"Περιγραφή dataset:\")\n",
        "print(path_train_dataset.info['description'])\n",
        "print(\"Ερμηνεία labels:\")\n",
        "print(path_train_dataset.info['label'])\n",
        "\n",
        "BATCH_SIZE = 128\n",
        "\n",
        "# encapsulate data into dataloader form\n",
        "path_train_loader = data.DataLoader(dataset=path_train_dataset, batch_size=BATCH_SIZE, shuffle=True)\n",
        "path_val_loader = data.DataLoader(dataset=path_val_dataset, batch_size=2*BATCH_SIZE, shuffle=False)\n",
        "path_test_loader = data.DataLoader(dataset=path_test_dataset, batch_size=2*BATCH_SIZE, shuffle=False)\n",
        "\n",
        "print(\"Δείγμα εικόνων του Colon Pathology dataset:\")\n",
        "path_train_dataset.montage(length=4)"
      ]
    },
    {
      "cell_type": "code",
      "execution_count": 8,
      "metadata": {
        "id": "NehlLI7u6mKu",
        "outputId": "d937dc0f-5888-4031-d044-6d2ce04d1e78",
        "colab": {
          "base_uri": "https://localhost:8080/"
        }
      },
      "outputs": [
        {
          "output_type": "execute_result",
          "data": {
            "text/plain": [
              "medmnist.dataset.PathMNIST"
            ]
          },
          "metadata": {},
          "execution_count": 8
        }
      ],
      "source": [
        "Path_DataClass"
      ]
    },
    {
      "cell_type": "code",
      "execution_count": 9,
      "metadata": {
        "id": "-LaxS4QW6mKv"
      },
      "outputs": [],
      "source": [
        "classes = tuple(path_train_dataset.info['label'].values())"
      ]
    },
    {
      "cell_type": "code",
      "execution_count": 10,
      "metadata": {
        "id": "OZUdR5nD6mKv",
        "outputId": "4f89e1eb-df8d-459b-f5c4-d9043eb2c725",
        "colab": {
          "base_uri": "https://localhost:8080/"
        }
      },
      "outputs": [
        {
          "output_type": "execute_result",
          "data": {
            "text/plain": [
              "('adipose',\n",
              " 'background',\n",
              " 'debris',\n",
              " 'lymphocytes',\n",
              " 'mucus',\n",
              " 'smooth muscle',\n",
              " 'normal colon mucosa',\n",
              " 'cancer-associated stroma',\n",
              " 'colorectal adenocarcinoma epithelium')"
            ]
          },
          "metadata": {},
          "execution_count": 10
        }
      ],
      "source": [
        "classes"
      ]
    },
    {
      "cell_type": "markdown",
      "metadata": {
        "id": "2oMBgUg8cJ_s"
      },
      "source": [
        "## Build the model\n",
        "\n",
        "We will build a model that gets as input 3-channel images and returns 9 classes specifically for the PathMNIST. Every change we will make (i.e. on the number of classes/outputs) will take place after we create an instance of the same model. "
      ]
    },
    {
      "cell_type": "code",
      "execution_count": 11,
      "metadata": {
        "id": "AgQcxh9wLF9Z"
      },
      "outputs": [],
      "source": [
        "class Net(nn.Module):\n",
        "    def __init__(self):\n",
        "        super(Net, self).__init__()\n",
        "\n",
        "        self.layer1 = nn.Sequential(\n",
        "            nn.Conv2d(3, 16, kernel_size=3, padding=1),\n",
        "            nn.BatchNorm2d(16),\n",
        "            nn.ReLU())\n",
        "\n",
        "        self.layer2 = nn.Sequential(\n",
        "            nn.Conv2d(16, 32, kernel_size=3, padding=1),\n",
        "            nn.BatchNorm2d(32),\n",
        "            nn.ReLU())\n",
        "\n",
        "        self.layer3 = nn.Sequential(\n",
        "            nn.Conv2d(32, 64, kernel_size=5, padding=2),\n",
        "            nn.BatchNorm2d(64),\n",
        "            nn.ReLU(),\n",
        "            nn.MaxPool2d(kernel_size=2, stride=2))\n",
        "        \n",
        "        self.layer4 = nn.Sequential(\n",
        "            nn.Conv2d(64, 64, kernel_size=3, padding=1),\n",
        "            nn.BatchNorm2d(64),\n",
        "            nn.ReLU(),\n",
        "            nn.MaxPool2d(kernel_size=2, stride=2))\n",
        "\n",
        "        self.layer5 = nn.Sequential(\n",
        "            nn.Conv2d(64, 64, kernel_size=3, padding=1),\n",
        "            nn.BatchNorm2d(64),\n",
        "            nn.ReLU(),\n",
        "            nn.MaxPool2d(kernel_size=2, stride=2))\n",
        "\n",
        "        self.fc = nn.Sequential(\n",
        "            nn.Linear(64 * 3 * 3, 1024),\n",
        "            nn.ReLU(),\n",
        "            nn.Linear(1024, 9))\n",
        "\n",
        "    def forward(self, x):\n",
        "        x = self.layer1(x)\n",
        "        x = self.layer2(x)\n",
        "        x = self.layer3(x)\n",
        "        x = self.layer4(x)\n",
        "        x = self.layer5(x)\n",
        "        x = x.view(x.size(0), -1)\n",
        "        x = self.fc(x)\n",
        "        return x\n",
        "\n",
        "model = Net()\n",
        "# Move model weights to GPU\n",
        "# Alternatively model.to(device)\n",
        "if torch.cuda.is_available():\n",
        "    model.cuda()\n",
        "    \n",
        "# define loss function and optimizer\n",
        "criterion = nn.CrossEntropyLoss()\n",
        "optimizer = optim.SGD(model.parameters(), lr=0.005, momentum=0.9)\n",
        "scheduler = optim.lr_scheduler.StepLR(optimizer, step_size=3, gamma=0.5)\n"
      ]
    },
    {
      "cell_type": "markdown",
      "source": [
        "## Create a testing function\n",
        "which will be used to track accuracy improvents while training and validating through the epochs and also finally for testing."
      ],
      "metadata": {
        "id": "2KKmfYhcrcKp"
      }
    },
    {
      "cell_type": "code",
      "source": [
        "def test_loop(dataloader, model):\n",
        "\n",
        "  # Create list to store every batch's accuracy\n",
        "  tot_acc=[]\n",
        "\n",
        "  # again no gradients needed\n",
        "  with torch.no_grad():\n",
        "      for i,data in enumerate(dataloader):\n",
        "          # images, labels = data\n",
        "          images, labels = data[0].to(device), data[1].to(device)\n",
        "          outputs = model(images)\n",
        "          _, predictions = torch.max(outputs, 1)\n",
        "          \n",
        "          # Move both tensors to CPU in order to calculate accuracy\n",
        "          tot_acc.append(accuracy_score(labels.cpu(),predictions.cpu()))\n",
        "\n",
        "  # Calculate the mean accu\n",
        "  return np.mean(tot_acc)"
      ],
      "metadata": {
        "id": "dTc73jjNrctM"
      },
      "execution_count": 12,
      "outputs": []
    },
    {
      "cell_type": "markdown",
      "source": [
        "## Training (with GPU)"
      ],
      "metadata": {
        "id": "_pBTBOB57etp"
      }
    },
    {
      "cell_type": "code",
      "execution_count": 13,
      "metadata": {
        "id": "ZMZGfVxc6mKz",
        "colab": {
          "base_uri": "https://localhost:8080/"
        },
        "outputId": "2d5e7d47-5dd2-4555-9ed6-18fc4fa1c8d1"
      },
      "outputs": [
        {
          "output_type": "stream",
          "name": "stdout",
          "text": [
            "cuda:0\n"
          ]
        }
      ],
      "source": [
        "device = torch.device('cuda:0' if torch.cuda.is_available() else 'cpu')\n",
        "print(device)"
      ]
    },
    {
      "cell_type": "code",
      "execution_count": 14,
      "metadata": {
        "id": "ILwnJoii6mKx",
        "outputId": "cf64f55d-15ab-433c-e3ff-e83de8828b06",
        "colab": {
          "base_uri": "https://localhost:8080/"
        }
      },
      "outputs": [
        {
          "output_type": "stream",
          "name": "stdout",
          "text": [
            "length of path_train_loader =  704\n"
          ]
        }
      ],
      "source": [
        "print(\"length of path_train_loader = \",len(path_train_loader))"
      ]
    },
    {
      "cell_type": "code",
      "source": [
        "# Save the accuracy of every epoch\n",
        "train_acc=[]\n",
        "validation_acc=[]\n",
        "\n",
        "# 9 Epochs\n",
        "for epoch in range(9):  # loop over the dataset multiple times\n",
        "\n",
        "    running_loss = 0.0\n",
        "    for i, data in enumerate(path_train_loader, 0):\n",
        "        # get the inputs; data is a list of [inputs, labels]\n",
        "        inputs, labels = data[0].to(device), data[1].to(device)\n",
        "\n",
        "        # zero the parameter gradients\n",
        "        optimizer.zero_grad()\n",
        "\n",
        "        # forward + backward + optimize\n",
        "        outputs = model(inputs)\n",
        "        labels = labels.squeeze().long()\n",
        "        loss = criterion(outputs, labels)\n",
        "        loss.backward()\n",
        "        optimizer.step()\n",
        "\n",
        "        # print statistics\n",
        "        running_loss += loss.item()\n",
        "        if i % 100 == 99:    # print every 100 mini-batches\n",
        "            print(f'[{epoch + 1}, {i + 1:5d}] loss: {running_loss / 100:.3f}')\n",
        "            running_loss = 0.0\n",
        "    \n",
        "    print(f'Learning rate used in epoch {epoch+1} =', scheduler.get_last_lr())\n",
        "    scheduler.step()\n",
        "    train_acc.append(test_loop(path_train_loader,model))\n",
        "    validation_acc.append(test_loop(path_val_loader,model))\n",
        "    print(\"Accuracy in train dataset = \", train_acc[epoch])\n",
        "    print(\"Accuracy in validation dataset = \", validation_acc[epoch])\n",
        "\n",
        "print('Finished Training')"
      ],
      "metadata": {
        "id": "gb4pV_Sz7iTe",
        "colab": {
          "base_uri": "https://localhost:8080/"
        },
        "outputId": "b2190ed1-9e1f-4126-c871-917148b9c0ae"
      },
      "execution_count": 15,
      "outputs": [
        {
          "output_type": "stream",
          "name": "stdout",
          "text": [
            "[1,   100] loss: 1.085\n",
            "[1,   200] loss: 0.708\n",
            "[1,   300] loss: 0.567\n",
            "[1,   400] loss: 0.507\n",
            "[1,   500] loss: 0.437\n",
            "[1,   600] loss: 0.405\n",
            "[1,   700] loss: 0.379\n",
            "Learning rate used in epoch 1 = [0.005]\n",
            "Accuracy in train dataset =  0.8640876538825758\n",
            "Accuracy in validation dataset =  0.8655664062499999\n",
            "[2,   100] loss: 0.353\n",
            "[2,   200] loss: 0.330\n",
            "[2,   300] loss: 0.306\n",
            "[2,   400] loss: 0.289\n",
            "[2,   500] loss: 0.279\n",
            "[2,   600] loss: 0.264\n",
            "[2,   700] loss: 0.260\n",
            "Learning rate used in epoch 2 = [0.005]\n",
            "Accuracy in train dataset =  0.896710020123106\n",
            "Accuracy in validation dataset =  0.8949414062500001\n",
            "[3,   100] loss: 0.250\n",
            "[3,   200] loss: 0.240\n",
            "[3,   300] loss: 0.228\n",
            "[3,   400] loss: 0.219\n",
            "[3,   500] loss: 0.222\n",
            "[3,   600] loss: 0.200\n",
            "[3,   700] loss: 0.191\n",
            "Learning rate used in epoch 3 = [0.005]\n",
            "Accuracy in train dataset =  0.9244754675662878\n",
            "Accuracy in validation dataset =  0.9257617187499999\n",
            "[4,   100] loss: 0.172\n",
            "[4,   200] loss: 0.156\n",
            "[4,   300] loss: 0.159\n",
            "[4,   400] loss: 0.162\n",
            "[4,   500] loss: 0.143\n",
            "[4,   600] loss: 0.131\n",
            "[4,   700] loss: 0.140\n",
            "Learning rate used in epoch 4 = [0.0025]\n",
            "Accuracy in train dataset =  0.9551373106060606\n",
            "Accuracy in validation dataset =  0.9550195312499999\n",
            "[5,   100] loss: 0.133\n",
            "[5,   200] loss: 0.129\n",
            "[5,   300] loss: 0.137\n",
            "[5,   400] loss: 0.135\n",
            "[5,   500] loss: 0.129\n",
            "[5,   600] loss: 0.132\n",
            "[5,   700] loss: 0.137\n",
            "Learning rate used in epoch 5 = [0.0025]\n",
            "Accuracy in train dataset =  0.9580189098011364\n",
            "Accuracy in validation dataset =  0.9547460937500001\n",
            "[6,   100] loss: 0.115\n",
            "[6,   200] loss: 0.125\n",
            "[6,   300] loss: 0.128\n",
            "[6,   400] loss: 0.121\n",
            "[6,   500] loss: 0.122\n",
            "[6,   600] loss: 0.125\n",
            "[6,   700] loss: 0.122\n",
            "Learning rate used in epoch 6 = [0.0025]\n",
            "Accuracy in train dataset =  0.9576416015625\n",
            "Accuracy in validation dataset =  0.9547265625\n",
            "[7,   100] loss: 0.100\n",
            "[7,   200] loss: 0.086\n",
            "[7,   300] loss: 0.096\n",
            "[7,   400] loss: 0.103\n",
            "[7,   500] loss: 0.097\n",
            "[7,   600] loss: 0.096\n",
            "[7,   700] loss: 0.095\n",
            "Learning rate used in epoch 7 = [0.00125]\n",
            "Accuracy in train dataset =  0.9687389026988636\n",
            "Accuracy in validation dataset =  0.96361328125\n",
            "[8,   100] loss: 0.097\n",
            "[8,   200] loss: 0.092\n",
            "[8,   300] loss: 0.094\n",
            "[8,   400] loss: 0.088\n",
            "[8,   500] loss: 0.090\n",
            "[8,   600] loss: 0.083\n",
            "[8,   700] loss: 0.091\n",
            "Learning rate used in epoch 8 = [0.00125]\n",
            "Accuracy in train dataset =  0.9714207504734849\n",
            "Accuracy in validation dataset =  0.967421875\n",
            "[9,   100] loss: 0.087\n",
            "[9,   200] loss: 0.082\n",
            "[9,   300] loss: 0.085\n",
            "[9,   400] loss: 0.085\n",
            "[9,   500] loss: 0.084\n",
            "[9,   600] loss: 0.086\n",
            "[9,   700] loss: 0.079\n",
            "Learning rate used in epoch 9 = [0.00125]\n",
            "Accuracy in train dataset =  0.9751198508522727\n",
            "Accuracy in validation dataset =  0.9682031249999999\n",
            "Finished Training\n"
          ]
        }
      ]
    },
    {
      "cell_type": "markdown",
      "source": [
        "## Save trained model's weights on drive"
      ],
      "metadata": {
        "id": "IlKuTNP9LpKJ"
      }
    },
    {
      "cell_type": "code",
      "source": [
        "FILENAME = './pathmnist_model.pth'\n",
        "torch.save(model.state_dict(), 'pathmnist_model.pth')"
      ],
      "metadata": {
        "id": "R1HRockDIZXe"
      },
      "execution_count": 16,
      "outputs": []
    },
    {
      "cell_type": "markdown",
      "source": [
        "## A small test"
      ],
      "metadata": {
        "id": "62g_5bvYMRBW"
      }
    },
    {
      "cell_type": "markdown",
      "source": [
        "The ground truth"
      ],
      "metadata": {
        "id": "-KRR_5z5NGZm"
      }
    },
    {
      "cell_type": "code",
      "execution_count": 17,
      "metadata": {
        "id": "JwrZwoiJ6mKy",
        "colab": {
          "base_uri": "https://localhost:8080/",
          "height": 238
        },
        "outputId": "60d0d651-4ca5-40e2-f36f-1650c9bc1d2e"
      },
      "outputs": [
        {
          "output_type": "stream",
          "name": "stdout",
          "text": [
            "GroundTruth:\n",
            "lymphocytes\n",
            "smooth muscle\n",
            "background\n",
            "background\n",
            "debris\n",
            "adipose\n"
          ]
        },
        {
          "output_type": "display_data",
          "data": {
            "text/plain": [
              "<Figure size 432x288 with 1 Axes>"
            ],
            "image/png": "[encoded data removed]"
          },
          "metadata": {
            "needs_background": "light"
          }
        }
      ],
      "source": [
        "import matplotlib.pyplot as plt\n",
        "import torchvision\n",
        "\n",
        "def imshow(img):\n",
        "    img = img / 2 + 0.5     # unnormalize\n",
        "    npimg = img.cpu().numpy()\n",
        "    plt.imshow(np.transpose(npimg, (1, 2, 0)))\n",
        "    plt.show()\n",
        "\n",
        "# get some random training images\n",
        "dataiter = iter(path_train_loader)\n",
        "images, labels = dataiter.next()\n",
        "\n",
        "#print labels \n",
        "print('GroundTruth:')\n",
        "for j in range(6):\n",
        "     print(''.join(classes[labels[j]]))\n",
        "   \n",
        "# print images\n",
        "imshow(torchvision.utils.make_grid(images[0:6]))"
      ]
    },
    {
      "cell_type": "markdown",
      "source": [
        "The predictions"
      ],
      "metadata": {
        "id": "Z6VKmUf6MkcQ"
      }
    },
    {
      "cell_type": "code",
      "source": [
        "# push images to GPU\n",
        "images = images.to(device)\n",
        "\n",
        "outputs = model(images)\n",
        "\n",
        "# We keep the class with the maximum output for each image\n",
        "# torch.max returns a tuple whose second field is the position of the maximum\n",
        "_, predicted = torch.max(outputs, 1)\n",
        "\n",
        "print('Predicted: ')\n",
        "for j in range(6):\n",
        "     print(''.join(classes[predicted[j]]))\n",
        "\n",
        "imshow(torchvision.utils.make_grid(images[0:6]))"
      ],
      "metadata": {
        "id": "kRKgeeGDMFTc",
        "colab": {
          "base_uri": "https://localhost:8080/",
          "height": 238
        },
        "outputId": "e31ac586-ead8-45c8-be3b-beee9235c003"
      },
      "execution_count": 18,
      "outputs": [
        {
          "output_type": "stream",
          "name": "stdout",
          "text": [
            "Predicted: \n",
            "lymphocytes\n",
            "smooth muscle\n",
            "background\n",
            "background\n",
            "debris\n",
            "adipose\n"
          ]
        },
        {
          "output_type": "display_data",
          "data": {
            "text/plain": [
              "<Figure size 432x288 with 1 Axes>"
            ],
            "image/png": "[encoded data removed]"
          },
          "metadata": {
            "needs_background": "light"
          }
        }
      ]
    },
    {
      "cell_type": "markdown",
      "source": [
        "## Testing (with GPU)"
      ],
      "metadata": {
        "id": "prgjsdIGvhwJ"
      }
    },
    {
      "cell_type": "markdown",
      "source": [
        "Since the classes are balanced, accuracy will be used, otherwise F-measure would be a better option."
      ],
      "metadata": {
        "id": "oAdXgDYLS4eA"
      }
    },
    {
      "cell_type": "code",
      "source": [
        "test_acc = test_loop(path_test_loader, model)\n",
        "print(\"Model's accuracy in Colon Pathology test dataset = \", test_acc)"
      ],
      "metadata": {
        "id": "HORYG-9UmvGL",
        "colab": {
          "base_uri": "https://localhost:8080/"
        },
        "outputId": "e1489826-9dfe-4662-c6c4-0e8bd2b0fd65"
      },
      "execution_count": 19,
      "outputs": [
        {
          "output_type": "stream",
          "name": "stdout",
          "text": [
            "Model's accuracy in Colon Pathology test dataset =  0.88128591954023\n"
          ]
        }
      ]
    },
    {
      "cell_type": "markdown",
      "source": [
        "## Plot accuracy"
      ],
      "metadata": {
        "id": "KOQkp1L_dBxU"
      }
    },
    {
      "cell_type": "code",
      "source": [
        "plt.figure(figsize=(14,10))\n",
        "\n",
        "plt.title('Train vs Validation vs Test accuracy', fontdict={'fontweight':'bold', 'fontsize': 18})\n",
        "\n",
        "epochs=[i for i in range(1,10)]\n",
        "\n",
        "plt.plot(epochs, train_acc, 'b.-', label='Train', markersize=15)\n",
        "plt.plot(epochs, validation_acc, 'r.-', label='Validation', markersize=15)\n",
        "plt.plot(9, test_acc, 'g.-', label='Test', markersize=15)\n",
        "\n",
        "plt.xticks(epochs[:])\n",
        "\n",
        "plt.xlabel('Epochs')\n",
        "plt.ylabel('Accuracy')\n",
        "\n",
        "plt.legend()\n",
        "\n",
        "plt.show()"
      ],
      "metadata": {
        "colab": {
          "base_uri": "https://localhost:8080/",
          "height": 625
        },
        "id": "JqYB02DIX0iW",
        "outputId": "052e58c1-0a25-47c7-f8d6-06647a8cccf2"
      },
      "execution_count": 20,
      "outputs": [
        {
          "output_type": "display_data",
          "data": {
            "text/plain": [
              "<Figure size 1008x720 with 1 Axes>"
            ],
            "image/png": "[encoded data removed]"
          },
          "metadata": {
            "needs_background": "light"
          }
        }
      ]
    },
    {
      "cell_type": "markdown",
      "source": [
        "Test accuracy is significantly lower than train accuracy so we conclude that the model suffers from overfitting."
      ],
      "metadata": {
        "id": "o0pUVPQ1cnVm"
      }
    },
    {
      "cell_type": "markdown",
      "source": [
        "## Test accuracy for each class"
      ],
      "metadata": {
        "id": "2_TMuAr5tP86"
      }
    },
    {
      "cell_type": "code",
      "execution_count": 21,
      "metadata": {
        "id": "AJzgWdr_6mKy",
        "outputId": "1ad7e373-95f9-4fc6-f719-39cca9dbdb50",
        "colab": {
          "base_uri": "https://localhost:8080/"
        }
      },
      "outputs": [
        {
          "output_type": "stream",
          "name": "stdout",
          "text": [
            "Accuracy for class: adipose is 97.8 %\n",
            "Accuracy for class: background is 100.0 %\n",
            "Accuracy for class: debris is 79.9 %\n",
            "Accuracy for class: lymphocytes is 77.6 %\n",
            "Accuracy for class: mucus is 90.9 %\n",
            "Accuracy for class: smooth muscle is 83.8 %\n",
            "Accuracy for class: normal colon mucosa is 79.5 %\n",
            "Accuracy for class: cancer-associated stroma is 57.7 %\n",
            "Accuracy for class: colorectal adenocarcinoma epithelium is 91.8 %\n"
          ]
        }
      ],
      "source": [
        "# prepare to count predictions for each class\n",
        "correct_pred = {classname: 0 for classname in classes}\n",
        "total_pred = {classname: 0 for classname in classes}\n",
        "\n",
        "# again no gradients needed\n",
        "with torch.no_grad():\n",
        "    for data in path_test_loader:\n",
        "        # images, labels = data\n",
        "        images, labels = data[0].to(device), data[1].to(device)\n",
        "        outputs = model(images)\n",
        "        _, predictions = torch.max(outputs, 1)\n",
        "        # collect the correct predictions for each class\n",
        "        for label, prediction in zip(labels, predictions):\n",
        "            if label == prediction:\n",
        "                correct_pred[classes[label]] += 1\n",
        "            total_pred[classes[label]] += 1\n",
        "\n",
        "\n",
        "# print accuracy for each class\n",
        "for classname, correct_count in correct_pred.items():\n",
        "    #acc = accuracy_score(y_true, y_pred)\n",
        "    accuracy = 100 * float(correct_count) / total_pred[classname]\n",
        "    print(f'Accuracy for class: {classname:5s} is {accuracy:.1f} %')"
      ]
    },
    {
      "cell_type": "markdown",
      "source": [
        "## Check if GPU was utilised\n",
        "If the calculations were performed on the GPU, the outputs will also have been produced there."
      ],
      "metadata": {
        "id": "ccCjCM7GHskv"
      }
    },
    {
      "cell_type": "code",
      "execution_count": 22,
      "metadata": {
        "id": "4XXLkJFC6mKz",
        "colab": {
          "base_uri": "https://localhost:8080/"
        },
        "outputId": "937e69d0-3b35-4b87-a174-c2afa7552725"
      },
      "outputs": [
        {
          "output_type": "stream",
          "name": "stdout",
          "text": [
            "Were the calculations run in the GPU/CUDA? True\n"
          ]
        }
      ],
      "source": [
        "print(\"Were the calculations run in the GPU/CUDA?\", outputs.is_cuda)"
      ]
    },
    {
      "cell_type": "markdown",
      "source": [
        "<br>\n"
      ],
      "metadata": {
        "id": "4cwYGt8TvSO2"
      }
    },
    {
      "cell_type": "markdown",
      "source": [
        "# 2. Blood Cell Microscope dataset"
      ],
      "metadata": {
        "id": "HQHUe4hxtV6F"
      }
    },
    {
      "cell_type": "markdown",
      "metadata": {
        "id": "2jJsoDQYayZv"
      },
      "source": [
        "## Load the Blood Cell Microscope dataset "
      ]
    },
    {
      "cell_type": "code",
      "execution_count": 51,
      "metadata": {
        "id": "09DIcZy9HOE1",
        "colab": {
          "base_uri": "https://localhost:8080/"
        },
        "outputId": "17ca0ced-4f0a-4a49-9bf3-7db0693eaf6b"
      },
      "outputs": [
        {
          "output_type": "stream",
          "name": "stdout",
          "text": [
            "multi-class\n"
          ]
        }
      ],
      "source": [
        "data_flag = 'bloodmnist'\n",
        "download = True\n",
        "\n",
        "info = INFO[data_flag]\n",
        "task = info['task']\n",
        "print (task)\n",
        "blood_channels = info['n_channels'] # if the input channels are different, transfer learning won't matter because the data won't have any similarity.\n",
        "blood_classes = len(info['label'])\n",
        "\n",
        "Blood_Dataclass = getattr(medmnist, info['python_class'])"
      ]
    },
    {
      "cell_type": "code",
      "execution_count": 52,
      "metadata": {
        "id": "AuWS0q16Tt6G",
        "colab": {
          "base_uri": "https://localhost:8080/",
          "height": 296
        },
        "outputId": "d90fcda5-74f8-4bdb-a1eb-988346d67a30"
      },
      "outputs": [
        {
          "output_type": "stream",
          "name": "stdout",
          "text": [
            "Using downloaded and verified file: /root/.medmnist/bloodmnist.npz\n",
            "Using downloaded and verified file: /root/.medmnist/bloodmnist.npz\n",
            "Using downloaded and verified file: /root/.medmnist/bloodmnist.npz\n",
            "{'python_class': 'BloodMNIST', 'description': 'The BloodMNIST is based on a dataset of individual normal cells, captured from individuals without infection, hematologic or oncologic disease and free of any pharmacologic treatment at the moment of blood collection. It contains a total of 17,092 images and is organized into 8 classes. We split the source dataset with a ratio of 7:1:2 into training, validation and test set. The source images with resolution 3×360×363 pixels are center-cropped into 3×200×200, and then resized into 3×28×28.', 'url': 'https://zenodo.org/record/6496656/files/bloodmnist.npz?download=1', 'MD5': '7053d0359d879ad8a5505303e11de1dc', 'task': 'multi-class', 'label': {'0': 'basophil', '1': 'eosinophil', '2': 'erythroblast', '3': 'immature granulocytes(myelocytes, metamyelocytes and promyelocytes)', '4': 'lymphocyte', '5': 'monocyte', '6': 'neutrophil', '7': 'platelet'}, 'n_channels': 3, 'n_samples': {'train': 11959, 'val': 1712, 'test': 3421}, 'license': 'CC BY 4.0'}\n",
            "Δείγμα εικόνων του Blood Cell Microscope dataset:\n"
          ]
        },
        {
          "output_type": "execute_result",
          "data": {
            "text/plain": [
              "<PIL.Image.Image image mode=RGB size=168x168 at 0x7F614C4B31D0>"
            ],
            "image/png": "[encoded data removed]"
          },
          "metadata": {},
          "execution_count": 52
        }
      ],
      "source": [
        "# load the data\n",
        "blood_train_dataset = Blood_Dataclass(split='train', transform=data_transforms['train'], download=download)\n",
        "blood_val_dataset = Blood_Dataclass(split='val', transform=data_transforms['test'], download=download)\n",
        "blood_test_dataset = Blood_Dataclass(split='test', transform=data_transforms['test'], download=download)\n",
        "print(blood_test_dataset.info)\n",
        "\n",
        "# encapsulate data into dataloader form\n",
        "blood_train_loader = data.DataLoader(dataset=blood_train_dataset, batch_size=BATCH_SIZE, shuffle=True)\n",
        "blood_val_loader = data.DataLoader(dataset=blood_val_dataset, batch_size=BATCH_SIZE*2, shuffle=False)\n",
        "blood_test_loader = data.DataLoader(dataset=blood_test_dataset, batch_size=BATCH_SIZE*2, shuffle=False)\n",
        "\n",
        "print(\"Δείγμα εικόνων του Blood Cell Microscope dataset:\")\n",
        "blood_train_dataset.montage(length=6)"
      ]
    },
    {
      "cell_type": "code",
      "source": [
        "#Το .info είναι ένα dictionary με επεξηγηματικές πληροφορίες για το dataset\n",
        "print(\"---------------------------------------------------------------------\")\n",
        "print(\"Διαθέσιμες πληροφορίες για το dataset:\")\n",
        "print(blood_train_dataset.info.keys())\n",
        "print(\"Περιγραφή dataset:\")\n",
        "print(blood_train_dataset.info['description'])\n",
        "print(\"Ερμηνεία labels:\")\n",
        "print(blood_train_dataset.info['label'])"
      ],
      "metadata": {
        "colab": {
          "base_uri": "https://localhost:8080/"
        },
        "id": "eeUMdzicN8s_",
        "outputId": "2242c5ee-bb4a-40a9-f006-fcb3aec2ef26"
      },
      "execution_count": 43,
      "outputs": [
        {
          "output_type": "stream",
          "name": "stdout",
          "text": [
            "---------------------------------------------------------------------\n",
            "Διαθέσιμες πληροφορίες για το dataset:\n",
            "dict_keys(['python_class', 'description', 'url', 'MD5', 'task', 'label', 'n_channels', 'n_samples', 'license'])\n",
            "Περιγραφή dataset:\n",
            "The BloodMNIST is based on a dataset of individual normal cells, captured from individuals without infection, hematologic or oncologic disease and free of any pharmacologic treatment at the moment of blood collection. It contains a total of 17,092 images and is organized into 8 classes. We split the source dataset with a ratio of 7:1:2 into training, validation and test set. The source images with resolution 3×360×363 pixels are center-cropped into 3×200×200, and then resized into 3×28×28.\n",
            "Ερμηνεία labels:\n",
            "{'0': 'basophil', '1': 'eosinophil', '2': 'erythroblast', '3': 'immature granulocytes(myelocytes, metamyelocytes and promyelocytes)', '4': 'lymphocyte', '5': 'monocyte', '6': 'neutrophil', '7': 'platelet'}\n"
          ]
        }
      ]
    },
    {
      "cell_type": "markdown",
      "source": [
        "## Transfer Learning"
      ],
      "metadata": {
        "id": "ob_ckXbEJy6F"
      }
    },
    {
      "cell_type": "markdown",
      "source": [
        "Create a new model and load the weights from the drive we saved earlier"
      ],
      "metadata": {
        "id": "mO_8zfkILuqJ"
      }
    },
    {
      "cell_type": "code",
      "source": [
        "model2 = Net()\n",
        "model2.load_state_dict(torch.load(FILENAME))\n",
        "model2 = model2.cuda()"
      ],
      "metadata": {
        "id": "LTQqEnVgLQMX"
      },
      "execution_count": 53,
      "outputs": []
    },
    {
      "cell_type": "code",
      "source": [
        "# define loss function and optimizer\n",
        "optimizer = optim.SGD(model2.parameters(), lr=0.005, momentum=0.9)\n",
        "scheduler = optim.lr_scheduler.StepLR(optimizer, step_size=2, gamma=0.5)"
      ],
      "metadata": {
        "id": "mTYhRm9hF1HQ"
      },
      "execution_count": 54,
      "outputs": []
    },
    {
      "cell_type": "markdown",
      "source": [
        "## Change last layer"
      ],
      "metadata": {
        "id": "Usxo-lX9V8w4"
      }
    },
    {
      "cell_type": "markdown",
      "source": [
        "The blood cell dataset divides images into 8 classes (as opposed to 9 that the colon dataset did) so the out_feautures of the last fully-connected layer must be changed"
      ],
      "metadata": {
        "id": "ZTtaGljtWVPz"
      }
    },
    {
      "cell_type": "code",
      "source": [
        "model2.fc[2].out_features=8\n",
        "model2.fc"
      ],
      "metadata": {
        "colab": {
          "base_uri": "https://localhost:8080/"
        },
        "id": "L17SXZs1T2To",
        "outputId": "343eeba0-f55c-438c-9510-ad31e1293bc5"
      },
      "execution_count": 55,
      "outputs": [
        {
          "output_type": "execute_result",
          "data": {
            "text/plain": [
              "Sequential(\n",
              "  (0): Linear(in_features=576, out_features=1024, bias=True)\n",
              "  (1): ReLU()\n",
              "  (2): Linear(in_features=1024, out_features=8, bias=True)\n",
              ")"
            ]
          },
          "metadata": {},
          "execution_count": 55
        }
      ]
    },
    {
      "cell_type": "markdown",
      "source": [
        "Next, we will try to train the Blood Cell dataset with and without transfer learning and see the results"
      ],
      "metadata": {
        "id": "24gFKP1XjxfS"
      }
    },
    {
      "cell_type": "markdown",
      "source": [
        "## Training (with GPU & transfer learning)"
      ],
      "metadata": {
        "id": "PM0soQu0FfoE"
      }
    },
    {
      "cell_type": "code",
      "execution_count": 56,
      "metadata": {
        "id": "ATwKXGCabDC4",
        "colab": {
          "base_uri": "https://localhost:8080/"
        },
        "outputId": "adb0e839-0026-4f0d-8199-e821f3a46828"
      },
      "outputs": [
        {
          "output_type": "stream",
          "name": "stdout",
          "text": [
            "[1,  30] loss: 1.341\n",
            "[1,  60] loss: 0.460\n",
            "[1,  90] loss: 0.378\n",
            "Learning rate used in epoch 1 = [0.005]\n",
            "Accuracy in train dataset =  0.878022243713733\n",
            "Accuracy in validation dataset =  0.8892045454545455\n",
            "[2,  30] loss: 0.316\n",
            "[2,  60] loss: 0.309\n",
            "[2,  90] loss: 0.293\n",
            "Learning rate used in epoch 2 = [0.005]\n",
            "Accuracy in train dataset =  0.905004835589942\n",
            "Accuracy in validation dataset =  0.908685064935065\n",
            "[3,  30] loss: 0.242\n",
            "[3,  60] loss: 0.241\n",
            "[3,  90] loss: 0.221\n",
            "Learning rate used in epoch 3 = [0.0025]\n",
            "Accuracy in train dataset =  0.9266969898452612\n",
            "Accuracy in validation dataset =  0.9280133928571429\n",
            "[4,  30] loss: 0.222\n",
            "[4,  60] loss: 0.218\n",
            "[4,  90] loss: 0.206\n",
            "Learning rate used in epoch 4 = [0.0025]\n",
            "Accuracy in train dataset =  0.9334849492263055\n",
            "Accuracy in validation dataset =  0.9355215097402597\n",
            "[5,  30] loss: 0.186\n",
            "[5,  60] loss: 0.188\n",
            "[5,  90] loss: 0.184\n",
            "Learning rate used in epoch 5 = [0.00125]\n",
            "Accuracy in train dataset =  0.9380560928433268\n",
            "Accuracy in validation dataset =  0.9353185876623377\n",
            "[6,  30] loss: 0.180\n",
            "[6,  60] loss: 0.189\n",
            "[6,  90] loss: 0.174\n",
            "Learning rate used in epoch 6 = [0.00125]\n",
            "Accuracy in train dataset =  0.9439570236943907\n",
            "Accuracy in validation dataset =  0.9364346590909091\n",
            "[7,  30] loss: 0.164\n",
            "[7,  60] loss: 0.172\n",
            "[7,  90] loss: 0.169\n",
            "Learning rate used in epoch 7 = [0.000625]\n",
            "Accuracy in train dataset =  0.9484435444874275\n",
            "Accuracy in validation dataset =  0.9450081168831169\n",
            "[8,  30] loss: 0.159\n",
            "[8,  60] loss: 0.153\n",
            "[8,  90] loss: 0.159\n",
            "Learning rate used in epoch 8 = [0.000625]\n",
            "Accuracy in train dataset =  0.9499123549323018\n",
            "Accuracy in validation dataset =  0.9450081168831169\n",
            "[9,  30] loss: 0.143\n",
            "[9,  60] loss: 0.158\n",
            "[9,  90] loss: 0.150\n",
            "Learning rate used in epoch 9 = [0.0003125]\n",
            "Accuracy in train dataset =  0.9482229206963251\n",
            "Accuracy in validation dataset =  0.9461241883116883\n",
            "Finished Training\n"
          ]
        }
      ],
      "source": [
        "blood_train_tl_acc=[]\n",
        "blood_validation_tl_acc=[]\n",
        "\n",
        "# 9 Epochs\n",
        "for epoch in range(9):  # loop over the dataset multiple times\n",
        "\n",
        "    running_loss = 0.0\n",
        "    for i, data in enumerate(blood_train_loader, 0):\n",
        "        # get the inputs; data is a list of [inputs, labels]\n",
        "        inputs, labels = data[0].to(device), data[1].to(device)\n",
        "\n",
        "        # zero the parameter gradients\n",
        "        optimizer.zero_grad()\n",
        "\n",
        "        # forward + backward + optimize\n",
        "        outputs = model2(inputs)\n",
        "        labels = labels.squeeze().long()\n",
        "        loss = criterion(outputs, labels)\n",
        "        loss.backward()\n",
        "        optimizer.step()\n",
        "\n",
        "        # print statistics\n",
        "        running_loss += loss.item()\n",
        "        if i % 30 == 29:    # print every 30 mini-batches\n",
        "            print(f'[{epoch + 1}, {i + 1:3d}] loss: {running_loss / 30:.3f}')\n",
        "            running_loss = 0.0\n",
        "    \n",
        "    print(f'Learning rate used in epoch {epoch+1} =', scheduler.get_last_lr())\n",
        "    scheduler.step()\n",
        "    blood_train_tl_acc.append(test_loop(blood_train_loader,model2))\n",
        "    blood_validation_tl_acc.append(test_loop(blood_val_loader,model2))\n",
        "    print(\"Accuracy in train dataset = \", blood_train_tl_acc[epoch])\n",
        "    print(\"Accuracy in validation dataset = \", blood_validation_tl_acc[epoch])\n",
        "\n",
        "print('Finished Training')"
      ]
    },
    {
      "cell_type": "markdown",
      "source": [
        "## Testing"
      ],
      "metadata": {
        "id": "e33GTACxk6d1"
      }
    },
    {
      "cell_type": "code",
      "source": [
        "blood_test_tl_acc = test_loop(blood_test_loader, model2)\n",
        "print(\"Model's accuracy in Blood Cell test dataset (with transfer learning) \", blood_test_tl_acc)"
      ],
      "metadata": {
        "colab": {
          "base_uri": "https://localhost:8080/"
        },
        "id": "q4v0P_GoksUb",
        "outputId": "be114221-9e74-4c0a-c79a-6fa71a8901b3"
      },
      "execution_count": 57,
      "outputs": [
        {
          "output_type": "stream",
          "name": "stdout",
          "text": [
            "Model's accuracy in Blood Cell test dataset (with transfer learning)  0.9441934283794163\n"
          ]
        }
      ]
    },
    {
      "cell_type": "markdown",
      "source": [
        "## Without Transfer Learning"
      ],
      "metadata": {
        "id": "qBn-SZtfJRc_"
      }
    },
    {
      "cell_type": "code",
      "source": [
        "model3 = Net()\n",
        "model3 = model3.cuda()"
      ],
      "metadata": {
        "id": "Xgt4xWWMJWMf"
      },
      "execution_count": 59,
      "outputs": []
    },
    {
      "cell_type": "code",
      "source": [
        "# define loss function and optimizer\n",
        "optimizer = optim.SGD(model3.parameters(), lr=0.005, momentum=0.9)\n",
        "scheduler = optim.lr_scheduler.StepLR(optimizer, step_size=2, gamma=0.5)"
      ],
      "metadata": {
        "id": "3Tyz5SiXMIFF"
      },
      "execution_count": 60,
      "outputs": []
    },
    {
      "cell_type": "code",
      "source": [
        "model3.fc[2].out_features=8\n",
        "model3.fc"
      ],
      "metadata": {
        "colab": {
          "base_uri": "https://localhost:8080/"
        },
        "id": "8WVCQyxqJebp",
        "outputId": "38e36134-61d4-48c0-c9e9-cb261fc3c8e3"
      },
      "execution_count": 61,
      "outputs": [
        {
          "output_type": "execute_result",
          "data": {
            "text/plain": [
              "Sequential(\n",
              "  (0): Linear(in_features=576, out_features=1024, bias=True)\n",
              "  (1): ReLU()\n",
              "  (2): Linear(in_features=1024, out_features=8, bias=True)\n",
              ")"
            ]
          },
          "metadata": {},
          "execution_count": 61
        }
      ]
    },
    {
      "cell_type": "code",
      "source": [
        "blood_train_acc=[]\n",
        "blood_validation_acc=[]\n",
        "\n",
        "# 9 Epochs\n",
        "for epoch in range(9):  # loop over the dataset multiple times\n",
        "\n",
        "    running_loss = 0.0\n",
        "    for i, data in enumerate(blood_train_loader, 0):\n",
        "        # get the inputs; data is a list of [inputs, labels]\n",
        "        inputs, labels = data[0].to(device), data[1].to(device)\n",
        "\n",
        "        # zero the parameter gradients\n",
        "        optimizer.zero_grad()\n",
        "\n",
        "        # forward + backward + optimize\n",
        "        outputs = model3(inputs)\n",
        "        labels = labels.squeeze().long()\n",
        "        loss = criterion(outputs, labels)\n",
        "        loss.backward()\n",
        "        optimizer.step()\n",
        "\n",
        "        # print statistics\n",
        "        running_loss += loss.item()\n",
        "        if i % 30 == 29:    # print every 30 mini-batches\n",
        "            print(f'[{epoch + 1}, {i + 1:3d}] loss: {running_loss / 30:.3f}')\n",
        "            running_loss = 0.0\n",
        "    \n",
        "    print(f'Learning rate used in epoch {epoch+1} =', scheduler.get_last_lr())\n",
        "    scheduler.step()\n",
        "    blood_train_acc.append(test_loop(blood_train_loader,model3))\n",
        "    blood_validation_acc.append(test_loop(blood_val_loader,model3))\n",
        "    print(\"Accuracy in train dataset = \", blood_train_acc[epoch])\n",
        "    print(\"Accuracy in validation dataset = \", blood_validation_acc[epoch])\n",
        "\n",
        "print('Finished Training')"
      ],
      "metadata": {
        "colab": {
          "base_uri": "https://localhost:8080/"
        },
        "id": "O0lsbSOhJlRU",
        "outputId": "4a7dda5c-a16c-473c-83ca-65c3b56f0942"
      },
      "execution_count": 62,
      "outputs": [
        {
          "output_type": "stream",
          "name": "stdout",
          "text": [
            "[1,  30] loss: 1.284\n",
            "[1,  60] loss: 0.565\n",
            "[1,  90] loss: 0.420\n",
            "Learning rate used in epoch 1 = [0.005]\n",
            "Accuracy in train dataset =  0.8770521034816247\n",
            "Accuracy in validation dataset =  0.8758624188311688\n",
            "[2,  30] loss: 0.366\n",
            "[2,  60] loss: 0.326\n",
            "[2,  90] loss: 0.300\n",
            "Learning rate used in epoch 2 = [0.005]\n",
            "Accuracy in train dataset =  0.8950042311411992\n",
            "Accuracy in validation dataset =  0.8953429383116883\n",
            "[3,  30] loss: 0.242\n",
            "[3,  60] loss: 0.231\n",
            "[3,  90] loss: 0.231\n",
            "Learning rate used in epoch 3 = [0.0025]\n",
            "Accuracy in train dataset =  0.925894584139265\n",
            "Accuracy in validation dataset =  0.9226866883116883\n",
            "[4,  30] loss: 0.206\n",
            "[4,  60] loss: 0.202\n",
            "[4,  90] loss: 0.197\n",
            "Learning rate used in epoch 4 = [0.0025]\n",
            "Accuracy in train dataset =  0.9357017649903288\n",
            "Accuracy in validation dataset =  0.9255275974025974\n",
            "[5,  30] loss: 0.163\n",
            "[5,  60] loss: 0.161\n",
            "[5,  90] loss: 0.162\n",
            "Learning rate used in epoch 5 = [0.00125]\n",
            "Accuracy in train dataset =  0.9515761000967118\n",
            "Accuracy in validation dataset =  0.9397828733766234\n",
            "[6,  30] loss: 0.149\n",
            "[6,  60] loss: 0.141\n",
            "[6,  90] loss: 0.153\n",
            "Learning rate used in epoch 6 = [0.00125]\n",
            "Accuracy in train dataset =  0.9574483196324952\n",
            "Accuracy in validation dataset =  0.9469358766233766\n",
            "[7,  30] loss: 0.138\n",
            "[7,  60] loss: 0.125\n",
            "[7,  90] loss: 0.121\n",
            "Learning rate used in epoch 7 = [0.000625]\n",
            "Accuracy in train dataset =  0.9591936653771761\n",
            "Accuracy in validation dataset =  0.9428267045454545\n",
            "[8,  30] loss: 0.124\n",
            "[8,  60] loss: 0.120\n",
            "[8,  90] loss: 0.120\n",
            "Learning rate used in epoch 8 = [0.000625]\n",
            "Accuracy in train dataset =  0.963903832205029\n",
            "Accuracy in validation dataset =  0.9431310876623377\n",
            "[9,  30] loss: 0.117\n",
            "[9,  60] loss: 0.114\n",
            "[9,  90] loss: 0.110\n",
            "Learning rate used in epoch 9 = [0.0003125]\n",
            "Accuracy in train dataset =  0.9675864361702128\n",
            "Accuracy in validation dataset =  0.9483563311688312\n",
            "Finished Training\n"
          ]
        }
      ]
    },
    {
      "cell_type": "markdown",
      "source": [
        "## Testing"
      ],
      "metadata": {
        "id": "HasM-I-LlDdn"
      }
    },
    {
      "cell_type": "code",
      "source": [
        "blood_test_acc = test_loop(blood_test_loader, model3)\n",
        "print(\"Model's accuracy in Blood Cell test dataset (w/o transfer learning) = \", blood_test_acc)"
      ],
      "metadata": {
        "colab": {
          "base_uri": "https://localhost:8080/"
        },
        "outputId": "c2944f9a-d155-4195-de4b-f320c0462cc1",
        "id": "12vUD3h9lEeB"
      },
      "execution_count": 63,
      "outputs": [
        {
          "output_type": "stream",
          "name": "stdout",
          "text": [
            "Model's accuracy in Blood Cell test dataset (w/o transfer learning) =  0.945447508640553\n"
          ]
        }
      ]
    },
    {
      "cell_type": "code",
      "source": [
        "plt.figure(figsize=(12,8))\n",
        "\n",
        "plt.title('Transfer Learning or No?', fontdict={'fontweight':'bold', 'fontsize': 18})\n",
        "\n",
        "epochs=[i for i in range(1,10)]\n",
        "\n",
        "plt.plot(epochs, blood_train_acc, 'b.-', label='No', markersize=15)\n",
        "plt.plot(epochs, blood_train_tl_acc, 'r.-', label='Transfer', markersize=15)\n",
        "#plt.plot(9, test_acc, 'g.-', label='Test', markersize=15)\n",
        "\n",
        "plt.xticks(epochs[:])\n",
        "\n",
        "plt.xlabel('Epochs')\n",
        "plt.ylabel('Accuracy')\n",
        "\n",
        "plt.legend()\n",
        "\n",
        "plt.show()"
      ],
      "metadata": {
        "colab": {
          "base_uri": "https://localhost:8080/",
          "height": 517
        },
        "id": "_CtVVPe9f9in",
        "outputId": "9510795f-c6a1-472a-8551-f099aded9b9d"
      },
      "execution_count": 64,
      "outputs": [
        {
          "output_type": "display_data",
          "data": {
            "text/plain": [
              "<Figure size 864x576 with 1 Axes>"
            ],
            "image/png": "[encoded data removed]"
          },
          "metadata": {
            "needs_background": "light"
          }
        }
      ]
    },
    {
      "cell_type": "markdown",
      "source": [
        "Initially the transfer model learns quicker but later the no transfer model surpasses it."
      ],
      "metadata": {
        "id": "bFqs0YyXgd5V"
      }
    },
    {
      "cell_type": "code",
      "source": [
        ""
      ],
      "metadata": {
        "id": "DUGsIo9CwFC7"
      },
      "execution_count": null,
      "outputs": []
    }
  ],
  "metadata": {
    "accelerator": "GPU",
    "colab": {
      "collapsed_sections": [],
      "name": "Αντίγραφο_Template_για_Εργασία_2_(Νευρωνικά_Δίκτυα)_.ipynb",
      "provenance": []
    },
    "kernelspec": {
      "display_name": "Python 3 (ipykernel)",
      "language": "python",
      "name": "python3"
    },
    "language_info": {
      "codemirror_mode": {
        "name": "ipython",
        "version": 3
      },
      "file_extension": ".py",
      "mimetype": "text/x-python",
      "name": "python",
      "nbconvert_exporter": "python",
      "pygments_lexer": "ipython3",
      "version": "3.8.3"
    },
    "gpuClass": "standard"
  },
  "nbformat": 4,
  "nbformat_minor": 0
}